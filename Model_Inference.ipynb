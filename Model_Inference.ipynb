{
 "cells": [
  {
   "cell_type": "markdown",
   "id": "60cceb20",
   "metadata": {},
   "source": [
    "# A. Background"
   ]
  },
  {
   "cell_type": "markdown",
   "id": "a7653f91",
   "metadata": {},
   "source": [
    "In this section, we will predict delay probability of a data from one shipment. The output will predict the probability of delay in the shipment which will be analyze from some features given."
   ]
  },
  {
   "cell_type": "markdown",
   "id": "36a314a6",
   "metadata": {},
   "source": [
    "# B. Import Libraries"
   ]
  },
  {
   "cell_type": "code",
   "execution_count": null,
   "id": "53635831",
   "metadata": {},
   "outputs": [],
   "source": [
    "import pickle\n",
    "import pandas as pd\n",
    "import numpy as np"
   ]
  },
  {
   "cell_type": "markdown",
   "id": "eb88677f",
   "metadata": {},
   "source": [
    "# C. Loading Model"
   ]
  },
  {
   "cell_type": "code",
   "execution_count": null,
   "id": "af5cb40a",
   "metadata": {},
   "outputs": [],
   "source": [
    "with open('model_fix.pkl', 'rb') as file:\n",
    "    model_fix = pickle.load(file)"
   ]
  },
  {
   "cell_type": "markdown",
   "id": "d6335865",
   "metadata": {},
   "source": [
    "# D. Loading Data"
   ]
  },
  {
   "cell_type": "code",
   "execution_count": null,
   "id": "0aebd881",
   "metadata": {},
   "outputs": [
    {
     "data": {
      "text/html": [
       "<div>\n",
       "<style scoped>\n",
       "    .dataframe tbody tr th:only-of-type {\n",
       "        vertical-align: middle;\n",
       "    }\n",
       "\n",
       "    .dataframe tbody tr th {\n",
       "        vertical-align: top;\n",
       "    }\n",
       "\n",
       "    .dataframe thead th {\n",
       "        text-align: right;\n",
       "    }\n",
       "</style>\n",
       "<table border=\"1\" class=\"dataframe\">\n",
       "  <thead>\n",
       "    <tr style=\"text-align: right;\">\n",
       "      <th></th>\n",
       "      <th>fuel_consumption_rate</th>\n",
       "      <th>eta_variation_hours</th>\n",
       "      <th>traffic_congestion_level</th>\n",
       "      <th>warehouse_inventory_level</th>\n",
       "      <th>loading_unloading_time</th>\n",
       "      <th>handling_equipment_availability</th>\n",
       "      <th>order_fulfillment_status</th>\n",
       "      <th>weather_condition_severity</th>\n",
       "      <th>port_congestion_level</th>\n",
       "      <th>shipping_costs</th>\n",
       "      <th>...</th>\n",
       "      <th>lead_time_days</th>\n",
       "      <th>historical_demand</th>\n",
       "      <th>iot_temperature</th>\n",
       "      <th>cargo_condition_status</th>\n",
       "      <th>route_risk_level</th>\n",
       "      <th>customs_clearance_time</th>\n",
       "      <th>driver_behavior_score</th>\n",
       "      <th>fatigue_monitoring_score</th>\n",
       "      <th>month</th>\n",
       "      <th>year</th>\n",
       "    </tr>\n",
       "  </thead>\n",
       "  <tbody>\n",
       "    <tr>\n",
       "      <th>0</th>\n",
       "      <td>13.005</td>\n",
       "      <td>2.89</td>\n",
       "      <td>8.76</td>\n",
       "      <td>103.55</td>\n",
       "      <td>4.67</td>\n",
       "      <td>0.35</td>\n",
       "      <td>0.43</td>\n",
       "      <td>0.65</td>\n",
       "      <td>5.65</td>\n",
       "      <td>230.77</td>\n",
       "      <td>...</td>\n",
       "      <td>1.34</td>\n",
       "      <td>2198.33</td>\n",
       "      <td>0.55</td>\n",
       "      <td>0.87</td>\n",
       "      <td>7.23</td>\n",
       "      <td>3.76</td>\n",
       "      <td>0.98</td>\n",
       "      <td>0.68</td>\n",
       "      <td>9</td>\n",
       "      <td>2024</td>\n",
       "    </tr>\n",
       "  </tbody>\n",
       "</table>\n",
       "<p>1 rows × 21 columns</p>\n",
       "</div>"
      ],
      "text/plain": [
       "   fuel_consumption_rate  eta_variation_hours  traffic_congestion_level  \\\n",
       "0                 13.005                 2.89                      8.76   \n",
       "\n",
       "   warehouse_inventory_level  loading_unloading_time  \\\n",
       "0                     103.55                    4.67   \n",
       "\n",
       "   handling_equipment_availability  order_fulfillment_status  \\\n",
       "0                             0.35                      0.43   \n",
       "\n",
       "   weather_condition_severity  port_congestion_level  shipping_costs  ...  \\\n",
       "0                        0.65                   5.65          230.77  ...   \n",
       "\n",
       "   lead_time_days  historical_demand  iot_temperature  cargo_condition_status  \\\n",
       "0            1.34            2198.33             0.55                    0.87   \n",
       "\n",
       "   route_risk_level  customs_clearance_time  driver_behavior_score  \\\n",
       "0              7.23                    3.76                   0.98   \n",
       "\n",
       "   fatigue_monitoring_score  month  year  \n",
       "0                      0.68      9  2024  \n",
       "\n",
       "[1 rows x 21 columns]"
      ]
     },
     "execution_count": 3,
     "metadata": {},
     "output_type": "execute_result"
    }
   ],
   "source": [
    "#entry data \n",
    "shipment_1 = {\n",
    "    'fuel_consumption_rate' : 13.005,\n",
    "    'eta_variation_hours' : 2.89,\n",
    "    'traffic_congestion_level' : 8.76,\n",
    "    'warehouse_inventory_level' : 103.55,\n",
    "    'loading_unloading_time' : 4.67,\n",
    "    'handling_equipment_availability' : 0.35,\n",
    "    'order_fulfillment_status' : 0.43,\n",
    "    'weather_condition_severity' : 0.65,\n",
    "    'port_congestion_level' : 5.65,\n",
    "    'shipping_costs' : 230.77,\n",
    "    'supplier_reliability_score' : 0.59,\n",
    "    'lead_time_days' : 1.34,\n",
    "    'historical_demand' : 2198.33,\n",
    "    'iot_temperature' : 0.55,\n",
    "    'cargo_condition_status' : 0.87,\n",
    "    'route_risk_level' : 7.23,\n",
    "    'customs_clearance_time' : 3.76,\n",
    "    'driver_behavior_score' : 0.98,\n",
    "    'fatigue_monitoring_score' : 0.68,\n",
    "    'month' : 9,\n",
    "    'year' : 2024 \n",
    "    }\n",
    "shipment_1 = pd.DataFrame([shipment_1])\n",
    "shipment_1"
   ]
  },
  {
   "cell_type": "markdown",
   "id": "42f7e157",
   "metadata": {},
   "source": [
    "# E. Model Inference"
   ]
  },
  {
   "cell_type": "code",
   "execution_count": null,
   "id": "e6a78d06",
   "metadata": {},
   "outputs": [
    {
     "name": "stdout",
     "output_type": "stream",
     "text": [
      "[0.67331139]\n"
     ]
    }
   ],
   "source": [
    "# Prediksi User 1\n",
    "pred_delay_1 = model_fix.predict(shipment_1)\n",
    "print(pred_delay_1)\n"
   ]
  },
  {
   "cell_type": "markdown",
   "id": "616a36bf",
   "metadata": {},
   "source": [
    "# F. Conclusion"
   ]
  },
  {
   "cell_type": "markdown",
   "id": "6fd2371a",
   "metadata": {},
   "source": [
    "Based on model prediction, the delay probability is 0.67. This means that the is shipment_1 is classified as **Moderate Risk** in the delay probability. \n",
    "\n",
    "However, since MAE score is 25-28% so it means that actual probability might be 0.37 - 0.95 for shipment_1."
   ]
  }
 ],
 "metadata": {
  "kernelspec": {
   "display_name": "base",
   "language": "python",
   "name": "python3"
  },
  "language_info": {
   "codemirror_mode": {
    "name": "ipython",
    "version": 3
   },
   "file_extension": ".py",
   "mimetype": "text/x-python",
   "name": "python",
   "nbconvert_exporter": "python",
   "pygments_lexer": "ipython3",
   "version": "3.9.21"
  }
 },
 "nbformat": 4,
 "nbformat_minor": 5
}
